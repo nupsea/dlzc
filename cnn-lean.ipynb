{
 "cells": [
  {
   "cell_type": "code",
   "execution_count": 80,
   "id": "fc0d24ff-edf6-4057-9aaf-084c35d59a03",
   "metadata": {},
   "outputs": [],
   "source": [
    "import numpy as np\n",
    "import matplotlib.pyplot as plt\n",
    "\n",
    "%matplotlib inline\n",
    "\n",
    "import tensorflow as tf\n",
    "from tensorflow import keras\n",
    "\n",
    "from keras.preprocessing.image import load_img\n",
    "\n",
    "from keras.applications.xception import Xception\n",
    "from keras.applications.xception import preprocess_input\n",
    "from keras.applications.xception import decode_predictions\n",
    "\n",
    "from keras import layers\n",
    "\n",
    "\n",
    "from tqdm.auto import tqdm \n",
    "import time"
   ]
  },
  {
   "cell_type": "code",
   "execution_count": 81,
   "id": "8240ce7a-b0e9-4298-9c50-ac228d6a15a0",
   "metadata": {},
   "outputs": [],
   "source": [
    "## Prep"
   ]
  },
  {
   "cell_type": "code",
   "execution_count": 82,
   "id": "295fc8d8-4404-438e-af6b-cd0a03bc9ed6",
   "metadata": {},
   "outputs": [],
   "source": [
    "input_size = 299"
   ]
  },
  {
   "cell_type": "code",
   "execution_count": 83,
   "id": "24efc16e-f0d2-4d4a-a993-b9cb5f8776d5",
   "metadata": {},
   "outputs": [
    {
     "name": "stdout",
     "output_type": "stream",
     "text": [
      "Found 3068 files belonging to 10 classes.\n"
     ]
    }
   ],
   "source": [
    "train_ds = tf.keras.utils.image_dataset_from_directory(\n",
    "    './clothing-dataset-small/train',\n",
    "    labels='inferred',\n",
    "    label_mode='categorical',\n",
    "    batch_size=32,\n",
    "    image_size=(input_size, input_size),\n",
    "    shuffle=True\n",
    ")\n",
    "\n",
    "data_augmentation = keras.Sequential([\n",
    "    layers.RandomFlip(\"horizontal\"),\n",
    "    layers.RandomZoom(0.1),\n",
    "])\n",
    "\n",
    "def augment_and_preprocess(image, label):\n",
    "    image = data_augmentation(image)\n",
    "    image = preprocess_input(image)\n",
    "    return image, label\n",
    "\n",
    "train_ds = train_ds.map(augment_and_preprocess, num_parallel_calls=tf.data.AUTOTUNE)\n",
    "train_ds = train_ds.prefetch(buffer_size=tf.data.AUTOTUNE)"
   ]
  },
  {
   "cell_type": "code",
   "execution_count": 84,
   "id": "89469d45-9bad-4eaa-9c25-616679a21b9f",
   "metadata": {},
   "outputs": [
    {
     "name": "stdout",
     "output_type": "stream",
     "text": [
      "Found 341 files belonging to 10 classes.\n"
     ]
    }
   ],
   "source": [
    "val_ds = tf.keras.utils.image_dataset_from_directory(\n",
    "    './clothing-dataset-small/validation',\n",
    "    labels='inferred',\n",
    "    label_mode='categorical',\n",
    "    batch_size=32,\n",
    "    image_size=(input_size, input_size),\n",
    "    shuffle=False\n",
    ")\n",
    "\n",
    "data_augmentation = keras.Sequential([\n",
    "    layers.RandomFlip(\"horizontal\"),\n",
    "    layers.RandomZoom(0.1),\n",
    "])\n",
    "\n",
    "def augment_and_preprocess(image, label):\n",
    "    image = data_augmentation(image)\n",
    "    image = preprocess_input(image)\n",
    "    return image, label\n",
    "\n",
    "val_ds = val_ds.map(augment_and_preprocess, num_parallel_calls=tf.data.AUTOTUNE)\n",
    "val_ds = val_ds.prefetch(buffer_size=tf.data.AUTOTUNE)"
   ]
  },
  {
   "cell_type": "code",
   "execution_count": 85,
   "id": "c7f23bb6-1055-4ce3-ac65-75c93b46f23c",
   "metadata": {},
   "outputs": [],
   "source": [
    "## Build Model"
   ]
  },
  {
   "cell_type": "code",
   "execution_count": 86,
   "id": "6e6f3b82-725b-4df8-8b41-f9a7916ff831",
   "metadata": {},
   "outputs": [],
   "source": [
    "def make_model(input_size=150, learning_rate=0.01, size_inner=100, drop_rate=0.5):\n",
    "\n",
    "    base_model = Xception(\n",
    "        weights='imagenet', \n",
    "        include_top=False, \n",
    "        input_shape=(input_size, input_size, 3)\n",
    "    )\n",
    "    base_model.trainable = False\n",
    "    \n",
    "    inputs = keras.Input(shape=(input_size, input_size, 3))\n",
    "    base = base_model(inputs, training=False) \n",
    "    vectors = keras.layers.GlobalAveragePooling2D()(base)\n",
    "\n",
    "    inner = keras.layers.Dense(size_inner, activation='relu')(vectors)\n",
    "    drop = keras.layers.Dropout(drop_rate)(inner)\n",
    "    \n",
    "    outputs = keras.layers.Dense(10)(drop)\n",
    "    model = keras.Model(inputs, outputs)\n",
    "\n",
    "    optimizer = keras.optimizers.Adam(learning_rate=learning_rate)\n",
    "    loss = keras.losses.CategoricalCrossentropy(from_logits=True)\n",
    "    model.compile(\n",
    "        optimizer=optimizer, \n",
    "        loss=loss, \n",
    "        metrics=['accuracy']\n",
    "    )\n",
    "\n",
    "    return model"
   ]
  },
  {
   "cell_type": "code",
   "execution_count": 8,
   "id": "0f216ff5-1e51-4154-a3ef-7f23216a1deb",
   "metadata": {},
   "outputs": [],
   "source": [
    "checkpoint = keras.callbacks.ModelCheckpoint(\n",
    "    'xception_v5_{epoch:02d}_{val_accuracy:.3f}.keras', \n",
    "    save_best_only=True,\n",
    "    monitor='val_accuracy',\n",
    "    mode='max'\n",
    ")"
   ]
  },
  {
   "cell_type": "code",
   "execution_count": 9,
   "id": "f00b7abe-4eba-4bf6-9426-a74b8363fd37",
   "metadata": {},
   "outputs": [
    {
     "name": "stdout",
     "output_type": "stream",
     "text": [
      "Epoch 1/5\n",
      "\u001b[1m32/96\u001b[0m \u001b[32m━━━━━━\u001b[0m\u001b[37m━━━━━━━━━━━━━━\u001b[0m \u001b[1m1:11\u001b[0m 1s/step - accuracy: 0.3313 - loss: 2.0009"
     ]
    },
    {
     "ename": "KeyboardInterrupt",
     "evalue": "",
     "output_type": "error",
     "traceback": [
      "\u001b[0;31m---------------------------------------------------------------------------\u001b[0m",
      "\u001b[0;31mKeyboardInterrupt\u001b[0m                         Traceback (most recent call last)",
      "Cell \u001b[0;32mIn[9], line 11\u001b[0m\n\u001b[1;32m      3\u001b[0m size\u001b[38;5;241m=\u001b[39m\u001b[38;5;241m50\u001b[39m\n\u001b[1;32m      5\u001b[0m model \u001b[38;5;241m=\u001b[39m make_model(\n\u001b[1;32m      6\u001b[0m     input_size\u001b[38;5;241m=\u001b[39m\u001b[38;5;241m299\u001b[39m,\n\u001b[1;32m      7\u001b[0m     learning_rate\u001b[38;5;241m=\u001b[39mlearning_rate,\n\u001b[1;32m      8\u001b[0m     size_inner\u001b[38;5;241m=\u001b[39msize,\n\u001b[1;32m      9\u001b[0m     drop_rate\u001b[38;5;241m=\u001b[39mdrop_rate\n\u001b[1;32m     10\u001b[0m )\n\u001b[0;32m---> 11\u001b[0m history \u001b[38;5;241m=\u001b[39m \u001b[43mmodel\u001b[49m\u001b[38;5;241;43m.\u001b[39;49m\u001b[43mfit\u001b[49m\u001b[43m(\u001b[49m\n\u001b[1;32m     12\u001b[0m \u001b[43m    \u001b[49m\u001b[43mtrain_ds\u001b[49m\u001b[43m,\u001b[49m\u001b[43m \u001b[49m\n\u001b[1;32m     13\u001b[0m \u001b[43m    \u001b[49m\u001b[43mepochs\u001b[49m\u001b[38;5;241;43m=\u001b[39;49m\u001b[38;5;241;43m5\u001b[39;49m\u001b[43m,\u001b[49m\u001b[43m \u001b[49m\n\u001b[1;32m     14\u001b[0m \u001b[43m    \u001b[49m\u001b[43mvalidation_data\u001b[49m\u001b[38;5;241;43m=\u001b[39;49m\u001b[43mval_ds\u001b[49m\u001b[43m,\u001b[49m\n\u001b[1;32m     15\u001b[0m \u001b[43m    \u001b[49m\u001b[43mcallbacks\u001b[49m\u001b[38;5;241;43m=\u001b[39;49m\u001b[43m[\u001b[49m\u001b[43mcheckpoint\u001b[49m\u001b[43m]\u001b[49m\n\u001b[1;32m     16\u001b[0m \u001b[43m)\u001b[49m\n",
      "File \u001b[0;32m/opt/homebrew/Caskroom/mambaforge/base/envs/dlzc/lib/python3.11/site-packages/keras/src/utils/traceback_utils.py:117\u001b[0m, in \u001b[0;36mfilter_traceback.<locals>.error_handler\u001b[0;34m(*args, **kwargs)\u001b[0m\n\u001b[1;32m    115\u001b[0m filtered_tb \u001b[38;5;241m=\u001b[39m \u001b[38;5;28;01mNone\u001b[39;00m\n\u001b[1;32m    116\u001b[0m \u001b[38;5;28;01mtry\u001b[39;00m:\n\u001b[0;32m--> 117\u001b[0m     \u001b[38;5;28;01mreturn\u001b[39;00m \u001b[43mfn\u001b[49m\u001b[43m(\u001b[49m\u001b[38;5;241;43m*\u001b[39;49m\u001b[43margs\u001b[49m\u001b[43m,\u001b[49m\u001b[43m \u001b[49m\u001b[38;5;241;43m*\u001b[39;49m\u001b[38;5;241;43m*\u001b[39;49m\u001b[43mkwargs\u001b[49m\u001b[43m)\u001b[49m\n\u001b[1;32m    118\u001b[0m \u001b[38;5;28;01mexcept\u001b[39;00m \u001b[38;5;167;01mException\u001b[39;00m \u001b[38;5;28;01mas\u001b[39;00m e:\n\u001b[1;32m    119\u001b[0m     filtered_tb \u001b[38;5;241m=\u001b[39m _process_traceback_frames(e\u001b[38;5;241m.\u001b[39m__traceback__)\n",
      "File \u001b[0;32m/opt/homebrew/Caskroom/mambaforge/base/envs/dlzc/lib/python3.11/site-packages/keras/src/backend/tensorflow/trainer.py:368\u001b[0m, in \u001b[0;36mTensorFlowTrainer.fit\u001b[0;34m(self, x, y, batch_size, epochs, verbose, callbacks, validation_split, validation_data, shuffle, class_weight, sample_weight, initial_epoch, steps_per_epoch, validation_steps, validation_batch_size, validation_freq)\u001b[0m\n\u001b[1;32m    366\u001b[0m \u001b[38;5;28;01mfor\u001b[39;00m step, iterator \u001b[38;5;129;01min\u001b[39;00m epoch_iterator:\n\u001b[1;32m    367\u001b[0m     callbacks\u001b[38;5;241m.\u001b[39mon_train_batch_begin(step)\n\u001b[0;32m--> 368\u001b[0m     logs \u001b[38;5;241m=\u001b[39m \u001b[38;5;28;43mself\u001b[39;49m\u001b[38;5;241;43m.\u001b[39;49m\u001b[43mtrain_function\u001b[49m\u001b[43m(\u001b[49m\u001b[43miterator\u001b[49m\u001b[43m)\u001b[49m\n\u001b[1;32m    369\u001b[0m     callbacks\u001b[38;5;241m.\u001b[39mon_train_batch_end(step, logs)\n\u001b[1;32m    370\u001b[0m     \u001b[38;5;28;01mif\u001b[39;00m \u001b[38;5;28mself\u001b[39m\u001b[38;5;241m.\u001b[39mstop_training:\n",
      "File \u001b[0;32m/opt/homebrew/Caskroom/mambaforge/base/envs/dlzc/lib/python3.11/site-packages/keras/src/backend/tensorflow/trainer.py:216\u001b[0m, in \u001b[0;36mTensorFlowTrainer._make_function.<locals>.function\u001b[0;34m(iterator)\u001b[0m\n\u001b[1;32m    212\u001b[0m \u001b[38;5;28;01mdef\u001b[39;00m \u001b[38;5;21mfunction\u001b[39m(iterator):\n\u001b[1;32m    213\u001b[0m     \u001b[38;5;28;01mif\u001b[39;00m \u001b[38;5;28misinstance\u001b[39m(\n\u001b[1;32m    214\u001b[0m         iterator, (tf\u001b[38;5;241m.\u001b[39mdata\u001b[38;5;241m.\u001b[39mIterator, tf\u001b[38;5;241m.\u001b[39mdistribute\u001b[38;5;241m.\u001b[39mDistributedIterator)\n\u001b[1;32m    215\u001b[0m     ):\n\u001b[0;32m--> 216\u001b[0m         opt_outputs \u001b[38;5;241m=\u001b[39m \u001b[43mmulti_step_on_iterator\u001b[49m\u001b[43m(\u001b[49m\u001b[43miterator\u001b[49m\u001b[43m)\u001b[49m\n\u001b[1;32m    217\u001b[0m         \u001b[38;5;28;01mif\u001b[39;00m \u001b[38;5;129;01mnot\u001b[39;00m opt_outputs\u001b[38;5;241m.\u001b[39mhas_value():\n\u001b[1;32m    218\u001b[0m             \u001b[38;5;28;01mraise\u001b[39;00m \u001b[38;5;167;01mStopIteration\u001b[39;00m\n",
      "File \u001b[0;32m/opt/homebrew/Caskroom/mambaforge/base/envs/dlzc/lib/python3.11/site-packages/tensorflow/python/util/traceback_utils.py:150\u001b[0m, in \u001b[0;36mfilter_traceback.<locals>.error_handler\u001b[0;34m(*args, **kwargs)\u001b[0m\n\u001b[1;32m    148\u001b[0m filtered_tb \u001b[38;5;241m=\u001b[39m \u001b[38;5;28;01mNone\u001b[39;00m\n\u001b[1;32m    149\u001b[0m \u001b[38;5;28;01mtry\u001b[39;00m:\n\u001b[0;32m--> 150\u001b[0m   \u001b[38;5;28;01mreturn\u001b[39;00m \u001b[43mfn\u001b[49m\u001b[43m(\u001b[49m\u001b[38;5;241;43m*\u001b[39;49m\u001b[43margs\u001b[49m\u001b[43m,\u001b[49m\u001b[43m \u001b[49m\u001b[38;5;241;43m*\u001b[39;49m\u001b[38;5;241;43m*\u001b[39;49m\u001b[43mkwargs\u001b[49m\u001b[43m)\u001b[49m\n\u001b[1;32m    151\u001b[0m \u001b[38;5;28;01mexcept\u001b[39;00m \u001b[38;5;167;01mException\u001b[39;00m \u001b[38;5;28;01mas\u001b[39;00m e:\n\u001b[1;32m    152\u001b[0m   filtered_tb \u001b[38;5;241m=\u001b[39m _process_traceback_frames(e\u001b[38;5;241m.\u001b[39m__traceback__)\n",
      "File \u001b[0;32m/opt/homebrew/Caskroom/mambaforge/base/envs/dlzc/lib/python3.11/site-packages/tensorflow/python/eager/polymorphic_function/polymorphic_function.py:833\u001b[0m, in \u001b[0;36mFunction.__call__\u001b[0;34m(self, *args, **kwds)\u001b[0m\n\u001b[1;32m    830\u001b[0m compiler \u001b[38;5;241m=\u001b[39m \u001b[38;5;124m\"\u001b[39m\u001b[38;5;124mxla\u001b[39m\u001b[38;5;124m\"\u001b[39m \u001b[38;5;28;01mif\u001b[39;00m \u001b[38;5;28mself\u001b[39m\u001b[38;5;241m.\u001b[39m_jit_compile \u001b[38;5;28;01melse\u001b[39;00m \u001b[38;5;124m\"\u001b[39m\u001b[38;5;124mnonXla\u001b[39m\u001b[38;5;124m\"\u001b[39m\n\u001b[1;32m    832\u001b[0m \u001b[38;5;28;01mwith\u001b[39;00m OptionalXlaContext(\u001b[38;5;28mself\u001b[39m\u001b[38;5;241m.\u001b[39m_jit_compile):\n\u001b[0;32m--> 833\u001b[0m   result \u001b[38;5;241m=\u001b[39m \u001b[38;5;28;43mself\u001b[39;49m\u001b[38;5;241;43m.\u001b[39;49m\u001b[43m_call\u001b[49m\u001b[43m(\u001b[49m\u001b[38;5;241;43m*\u001b[39;49m\u001b[43margs\u001b[49m\u001b[43m,\u001b[49m\u001b[43m \u001b[49m\u001b[38;5;241;43m*\u001b[39;49m\u001b[38;5;241;43m*\u001b[39;49m\u001b[43mkwds\u001b[49m\u001b[43m)\u001b[49m\n\u001b[1;32m    835\u001b[0m new_tracing_count \u001b[38;5;241m=\u001b[39m \u001b[38;5;28mself\u001b[39m\u001b[38;5;241m.\u001b[39mexperimental_get_tracing_count()\n\u001b[1;32m    836\u001b[0m without_tracing \u001b[38;5;241m=\u001b[39m (tracing_count \u001b[38;5;241m==\u001b[39m new_tracing_count)\n",
      "File \u001b[0;32m/opt/homebrew/Caskroom/mambaforge/base/envs/dlzc/lib/python3.11/site-packages/tensorflow/python/eager/polymorphic_function/polymorphic_function.py:878\u001b[0m, in \u001b[0;36mFunction._call\u001b[0;34m(self, *args, **kwds)\u001b[0m\n\u001b[1;32m    875\u001b[0m \u001b[38;5;28mself\u001b[39m\u001b[38;5;241m.\u001b[39m_lock\u001b[38;5;241m.\u001b[39mrelease()\n\u001b[1;32m    876\u001b[0m \u001b[38;5;66;03m# In this case we have not created variables on the first call. So we can\u001b[39;00m\n\u001b[1;32m    877\u001b[0m \u001b[38;5;66;03m# run the first trace but we should fail if variables are created.\u001b[39;00m\n\u001b[0;32m--> 878\u001b[0m results \u001b[38;5;241m=\u001b[39m \u001b[43mtracing_compilation\u001b[49m\u001b[38;5;241;43m.\u001b[39;49m\u001b[43mcall_function\u001b[49m\u001b[43m(\u001b[49m\n\u001b[1;32m    879\u001b[0m \u001b[43m    \u001b[49m\u001b[43margs\u001b[49m\u001b[43m,\u001b[49m\u001b[43m \u001b[49m\u001b[43mkwds\u001b[49m\u001b[43m,\u001b[49m\u001b[43m \u001b[49m\u001b[38;5;28;43mself\u001b[39;49m\u001b[38;5;241;43m.\u001b[39;49m\u001b[43m_variable_creation_config\u001b[49m\n\u001b[1;32m    880\u001b[0m \u001b[43m\u001b[49m\u001b[43m)\u001b[49m\n\u001b[1;32m    881\u001b[0m \u001b[38;5;28;01mif\u001b[39;00m \u001b[38;5;28mself\u001b[39m\u001b[38;5;241m.\u001b[39m_created_variables:\n\u001b[1;32m    882\u001b[0m   \u001b[38;5;28;01mraise\u001b[39;00m \u001b[38;5;167;01mValueError\u001b[39;00m(\u001b[38;5;124m\"\u001b[39m\u001b[38;5;124mCreating variables on a non-first call to a function\u001b[39m\u001b[38;5;124m\"\u001b[39m\n\u001b[1;32m    883\u001b[0m                    \u001b[38;5;124m\"\u001b[39m\u001b[38;5;124m decorated with tf.function.\u001b[39m\u001b[38;5;124m\"\u001b[39m)\n",
      "File \u001b[0;32m/opt/homebrew/Caskroom/mambaforge/base/envs/dlzc/lib/python3.11/site-packages/tensorflow/python/eager/polymorphic_function/tracing_compilation.py:139\u001b[0m, in \u001b[0;36mcall_function\u001b[0;34m(args, kwargs, tracing_options)\u001b[0m\n\u001b[1;32m    137\u001b[0m bound_args \u001b[38;5;241m=\u001b[39m function\u001b[38;5;241m.\u001b[39mfunction_type\u001b[38;5;241m.\u001b[39mbind(\u001b[38;5;241m*\u001b[39margs, \u001b[38;5;241m*\u001b[39m\u001b[38;5;241m*\u001b[39mkwargs)\n\u001b[1;32m    138\u001b[0m flat_inputs \u001b[38;5;241m=\u001b[39m function\u001b[38;5;241m.\u001b[39mfunction_type\u001b[38;5;241m.\u001b[39munpack_inputs(bound_args)\n\u001b[0;32m--> 139\u001b[0m \u001b[38;5;28;01mreturn\u001b[39;00m \u001b[43mfunction\u001b[49m\u001b[38;5;241;43m.\u001b[39;49m\u001b[43m_call_flat\u001b[49m\u001b[43m(\u001b[49m\u001b[43m  \u001b[49m\u001b[38;5;66;43;03m# pylint: disable=protected-access\u001b[39;49;00m\n\u001b[1;32m    140\u001b[0m \u001b[43m    \u001b[49m\u001b[43mflat_inputs\u001b[49m\u001b[43m,\u001b[49m\u001b[43m \u001b[49m\u001b[43mcaptured_inputs\u001b[49m\u001b[38;5;241;43m=\u001b[39;49m\u001b[43mfunction\u001b[49m\u001b[38;5;241;43m.\u001b[39;49m\u001b[43mcaptured_inputs\u001b[49m\n\u001b[1;32m    141\u001b[0m \u001b[43m\u001b[49m\u001b[43m)\u001b[49m\n",
      "File \u001b[0;32m/opt/homebrew/Caskroom/mambaforge/base/envs/dlzc/lib/python3.11/site-packages/tensorflow/python/eager/polymorphic_function/concrete_function.py:1322\u001b[0m, in \u001b[0;36mConcreteFunction._call_flat\u001b[0;34m(self, tensor_inputs, captured_inputs)\u001b[0m\n\u001b[1;32m   1318\u001b[0m possible_gradient_type \u001b[38;5;241m=\u001b[39m gradients_util\u001b[38;5;241m.\u001b[39mPossibleTapeGradientTypes(args)\n\u001b[1;32m   1319\u001b[0m \u001b[38;5;28;01mif\u001b[39;00m (possible_gradient_type \u001b[38;5;241m==\u001b[39m gradients_util\u001b[38;5;241m.\u001b[39mPOSSIBLE_GRADIENT_TYPES_NONE\n\u001b[1;32m   1320\u001b[0m     \u001b[38;5;129;01mand\u001b[39;00m executing_eagerly):\n\u001b[1;32m   1321\u001b[0m   \u001b[38;5;66;03m# No tape is watching; skip to running the function.\u001b[39;00m\n\u001b[0;32m-> 1322\u001b[0m   \u001b[38;5;28;01mreturn\u001b[39;00m \u001b[38;5;28;43mself\u001b[39;49m\u001b[38;5;241;43m.\u001b[39;49m\u001b[43m_inference_function\u001b[49m\u001b[38;5;241;43m.\u001b[39;49m\u001b[43mcall_preflattened\u001b[49m\u001b[43m(\u001b[49m\u001b[43margs\u001b[49m\u001b[43m)\u001b[49m\n\u001b[1;32m   1323\u001b[0m forward_backward \u001b[38;5;241m=\u001b[39m \u001b[38;5;28mself\u001b[39m\u001b[38;5;241m.\u001b[39m_select_forward_and_backward_functions(\n\u001b[1;32m   1324\u001b[0m     args,\n\u001b[1;32m   1325\u001b[0m     possible_gradient_type,\n\u001b[1;32m   1326\u001b[0m     executing_eagerly)\n\u001b[1;32m   1327\u001b[0m forward_function, args_with_tangents \u001b[38;5;241m=\u001b[39m forward_backward\u001b[38;5;241m.\u001b[39mforward()\n",
      "File \u001b[0;32m/opt/homebrew/Caskroom/mambaforge/base/envs/dlzc/lib/python3.11/site-packages/tensorflow/python/eager/polymorphic_function/atomic_function.py:216\u001b[0m, in \u001b[0;36mAtomicFunction.call_preflattened\u001b[0;34m(self, args)\u001b[0m\n\u001b[1;32m    214\u001b[0m \u001b[38;5;28;01mdef\u001b[39;00m \u001b[38;5;21mcall_preflattened\u001b[39m(\u001b[38;5;28mself\u001b[39m, args: Sequence[core\u001b[38;5;241m.\u001b[39mTensor]) \u001b[38;5;241m-\u001b[39m\u001b[38;5;241m>\u001b[39m Any:\n\u001b[1;32m    215\u001b[0m \u001b[38;5;250m  \u001b[39m\u001b[38;5;124;03m\"\"\"Calls with flattened tensor inputs and returns the structured output.\"\"\"\u001b[39;00m\n\u001b[0;32m--> 216\u001b[0m   flat_outputs \u001b[38;5;241m=\u001b[39m \u001b[38;5;28;43mself\u001b[39;49m\u001b[38;5;241;43m.\u001b[39;49m\u001b[43mcall_flat\u001b[49m\u001b[43m(\u001b[49m\u001b[38;5;241;43m*\u001b[39;49m\u001b[43margs\u001b[49m\u001b[43m)\u001b[49m\n\u001b[1;32m    217\u001b[0m   \u001b[38;5;28;01mreturn\u001b[39;00m \u001b[38;5;28mself\u001b[39m\u001b[38;5;241m.\u001b[39mfunction_type\u001b[38;5;241m.\u001b[39mpack_output(flat_outputs)\n",
      "File \u001b[0;32m/opt/homebrew/Caskroom/mambaforge/base/envs/dlzc/lib/python3.11/site-packages/tensorflow/python/eager/polymorphic_function/atomic_function.py:251\u001b[0m, in \u001b[0;36mAtomicFunction.call_flat\u001b[0;34m(self, *args)\u001b[0m\n\u001b[1;32m    249\u001b[0m \u001b[38;5;28;01mwith\u001b[39;00m record\u001b[38;5;241m.\u001b[39mstop_recording():\n\u001b[1;32m    250\u001b[0m   \u001b[38;5;28;01mif\u001b[39;00m \u001b[38;5;28mself\u001b[39m\u001b[38;5;241m.\u001b[39m_bound_context\u001b[38;5;241m.\u001b[39mexecuting_eagerly():\n\u001b[0;32m--> 251\u001b[0m     outputs \u001b[38;5;241m=\u001b[39m \u001b[38;5;28;43mself\u001b[39;49m\u001b[38;5;241;43m.\u001b[39;49m\u001b[43m_bound_context\u001b[49m\u001b[38;5;241;43m.\u001b[39;49m\u001b[43mcall_function\u001b[49m\u001b[43m(\u001b[49m\n\u001b[1;32m    252\u001b[0m \u001b[43m        \u001b[49m\u001b[38;5;28;43mself\u001b[39;49m\u001b[38;5;241;43m.\u001b[39;49m\u001b[43mname\u001b[49m\u001b[43m,\u001b[49m\n\u001b[1;32m    253\u001b[0m \u001b[43m        \u001b[49m\u001b[38;5;28;43mlist\u001b[39;49m\u001b[43m(\u001b[49m\u001b[43margs\u001b[49m\u001b[43m)\u001b[49m\u001b[43m,\u001b[49m\n\u001b[1;32m    254\u001b[0m \u001b[43m        \u001b[49m\u001b[38;5;28;43mlen\u001b[39;49m\u001b[43m(\u001b[49m\u001b[38;5;28;43mself\u001b[39;49m\u001b[38;5;241;43m.\u001b[39;49m\u001b[43mfunction_type\u001b[49m\u001b[38;5;241;43m.\u001b[39;49m\u001b[43mflat_outputs\u001b[49m\u001b[43m)\u001b[49m\u001b[43m,\u001b[49m\n\u001b[1;32m    255\u001b[0m \u001b[43m    \u001b[49m\u001b[43m)\u001b[49m\n\u001b[1;32m    256\u001b[0m   \u001b[38;5;28;01melse\u001b[39;00m:\n\u001b[1;32m    257\u001b[0m     outputs \u001b[38;5;241m=\u001b[39m make_call_op_in_graph(\n\u001b[1;32m    258\u001b[0m         \u001b[38;5;28mself\u001b[39m,\n\u001b[1;32m    259\u001b[0m         \u001b[38;5;28mlist\u001b[39m(args),\n\u001b[1;32m    260\u001b[0m         \u001b[38;5;28mself\u001b[39m\u001b[38;5;241m.\u001b[39m_bound_context\u001b[38;5;241m.\u001b[39mfunction_call_options\u001b[38;5;241m.\u001b[39mas_attrs(),\n\u001b[1;32m    261\u001b[0m     )\n",
      "File \u001b[0;32m/opt/homebrew/Caskroom/mambaforge/base/envs/dlzc/lib/python3.11/site-packages/tensorflow/python/eager/context.py:1552\u001b[0m, in \u001b[0;36mContext.call_function\u001b[0;34m(self, name, tensor_inputs, num_outputs)\u001b[0m\n\u001b[1;32m   1550\u001b[0m cancellation_context \u001b[38;5;241m=\u001b[39m cancellation\u001b[38;5;241m.\u001b[39mcontext()\n\u001b[1;32m   1551\u001b[0m \u001b[38;5;28;01mif\u001b[39;00m cancellation_context \u001b[38;5;129;01mis\u001b[39;00m \u001b[38;5;28;01mNone\u001b[39;00m:\n\u001b[0;32m-> 1552\u001b[0m   outputs \u001b[38;5;241m=\u001b[39m \u001b[43mexecute\u001b[49m\u001b[38;5;241;43m.\u001b[39;49m\u001b[43mexecute\u001b[49m\u001b[43m(\u001b[49m\n\u001b[1;32m   1553\u001b[0m \u001b[43m      \u001b[49m\u001b[43mname\u001b[49m\u001b[38;5;241;43m.\u001b[39;49m\u001b[43mdecode\u001b[49m\u001b[43m(\u001b[49m\u001b[38;5;124;43m\"\u001b[39;49m\u001b[38;5;124;43mutf-8\u001b[39;49m\u001b[38;5;124;43m\"\u001b[39;49m\u001b[43m)\u001b[49m\u001b[43m,\u001b[49m\n\u001b[1;32m   1554\u001b[0m \u001b[43m      \u001b[49m\u001b[43mnum_outputs\u001b[49m\u001b[38;5;241;43m=\u001b[39;49m\u001b[43mnum_outputs\u001b[49m\u001b[43m,\u001b[49m\n\u001b[1;32m   1555\u001b[0m \u001b[43m      \u001b[49m\u001b[43minputs\u001b[49m\u001b[38;5;241;43m=\u001b[39;49m\u001b[43mtensor_inputs\u001b[49m\u001b[43m,\u001b[49m\n\u001b[1;32m   1556\u001b[0m \u001b[43m      \u001b[49m\u001b[43mattrs\u001b[49m\u001b[38;5;241;43m=\u001b[39;49m\u001b[43mattrs\u001b[49m\u001b[43m,\u001b[49m\n\u001b[1;32m   1557\u001b[0m \u001b[43m      \u001b[49m\u001b[43mctx\u001b[49m\u001b[38;5;241;43m=\u001b[39;49m\u001b[38;5;28;43mself\u001b[39;49m\u001b[43m,\u001b[49m\n\u001b[1;32m   1558\u001b[0m \u001b[43m  \u001b[49m\u001b[43m)\u001b[49m\n\u001b[1;32m   1559\u001b[0m \u001b[38;5;28;01melse\u001b[39;00m:\n\u001b[1;32m   1560\u001b[0m   outputs \u001b[38;5;241m=\u001b[39m execute\u001b[38;5;241m.\u001b[39mexecute_with_cancellation(\n\u001b[1;32m   1561\u001b[0m       name\u001b[38;5;241m.\u001b[39mdecode(\u001b[38;5;124m\"\u001b[39m\u001b[38;5;124mutf-8\u001b[39m\u001b[38;5;124m\"\u001b[39m),\n\u001b[1;32m   1562\u001b[0m       num_outputs\u001b[38;5;241m=\u001b[39mnum_outputs,\n\u001b[0;32m   (...)\u001b[0m\n\u001b[1;32m   1566\u001b[0m       cancellation_manager\u001b[38;5;241m=\u001b[39mcancellation_context,\n\u001b[1;32m   1567\u001b[0m   )\n",
      "File \u001b[0;32m/opt/homebrew/Caskroom/mambaforge/base/envs/dlzc/lib/python3.11/site-packages/tensorflow/python/eager/execute.py:53\u001b[0m, in \u001b[0;36mquick_execute\u001b[0;34m(op_name, num_outputs, inputs, attrs, ctx, name)\u001b[0m\n\u001b[1;32m     51\u001b[0m \u001b[38;5;28;01mtry\u001b[39;00m:\n\u001b[1;32m     52\u001b[0m   ctx\u001b[38;5;241m.\u001b[39mensure_initialized()\n\u001b[0;32m---> 53\u001b[0m   tensors \u001b[38;5;241m=\u001b[39m \u001b[43mpywrap_tfe\u001b[49m\u001b[38;5;241;43m.\u001b[39;49m\u001b[43mTFE_Py_Execute\u001b[49m\u001b[43m(\u001b[49m\u001b[43mctx\u001b[49m\u001b[38;5;241;43m.\u001b[39;49m\u001b[43m_handle\u001b[49m\u001b[43m,\u001b[49m\u001b[43m \u001b[49m\u001b[43mdevice_name\u001b[49m\u001b[43m,\u001b[49m\u001b[43m \u001b[49m\u001b[43mop_name\u001b[49m\u001b[43m,\u001b[49m\n\u001b[1;32m     54\u001b[0m \u001b[43m                                      \u001b[49m\u001b[43minputs\u001b[49m\u001b[43m,\u001b[49m\u001b[43m \u001b[49m\u001b[43mattrs\u001b[49m\u001b[43m,\u001b[49m\u001b[43m \u001b[49m\u001b[43mnum_outputs\u001b[49m\u001b[43m)\u001b[49m\n\u001b[1;32m     55\u001b[0m \u001b[38;5;28;01mexcept\u001b[39;00m core\u001b[38;5;241m.\u001b[39m_NotOkStatusException \u001b[38;5;28;01mas\u001b[39;00m e:\n\u001b[1;32m     56\u001b[0m   \u001b[38;5;28;01mif\u001b[39;00m name \u001b[38;5;129;01mis\u001b[39;00m \u001b[38;5;129;01mnot\u001b[39;00m \u001b[38;5;28;01mNone\u001b[39;00m:\n",
      "\u001b[0;31mKeyboardInterrupt\u001b[0m: "
     ]
    }
   ],
   "source": [
    "drop_rate = 0.2\n",
    "learning_rate = 0.0005\n",
    "size=50\n",
    "\n",
    "model = make_model(\n",
    "    input_size=299,\n",
    "    learning_rate=learning_rate,\n",
    "    size_inner=size,\n",
    "    drop_rate=drop_rate\n",
    ")\n",
    "history = model.fit(\n",
    "    train_ds, \n",
    "    epochs=5, \n",
    "    validation_data=val_ds,\n",
    "    callbacks=[checkpoint]\n",
    ")"
   ]
  },
  {
   "cell_type": "markdown",
   "id": "026471cc-f98a-42ce-93e3-d6b4a9cac00d",
   "metadata": {},
   "source": [
    "```\n",
    "# Without Data Aug\n",
    "Epoch 1/50\n",
    "96/96 ━━━━━━━━━━━━━━━━━━━━ 31s 314ms/step - accuracy: 0.5522 - loss: 1.3894 - val_accuracy: 0.7801 - val_loss: 0.6842\n",
    "Epoch 2/50\n",
    "96/96 ━━━━━━━━━━━━━━━━━━━━ 30s 310ms/step - accuracy: 0.7555 - loss: 0.6901 - val_accuracy: 0.8123 - val_loss: 0.5758\n",
    "Epoch 3/50\n",
    "96/96 ━━━━━━━━━━━━━━━━━━━━ 30s 311ms/step - accuracy: 0.8080 - loss: 0.5301 - val_accuracy: 0.8006 - val_loss: 0.5855\n",
    "Epoch 4/50\n",
    "96/96 ━━━━━━━━━━━━━━━━━━━━ 30s 317ms/step - accuracy: 0.8429 - loss: 0.4260 - val_accuracy: 0.7977 - val_loss: 0.5529\n",
    "Epoch 5/50\n",
    "96/96 ━━━━━━━━━━━━━━━━━━━━ 31s 324ms/step - accuracy: 0.8910 - loss: 0.3264 - val_accuracy: 0.8211 - val_loss: 0.5373\n",
    "Epoch 6/50\n",
    "96/96 ━━━━━━━━━━━━━━━━━━━━ 30s 316ms/step - accuracy: 0.9096 - loss: 0.2716 - val_accuracy: 0.8211 - val_loss: 0.5518\n",
    "Epoch 7/50\n",
    "96/96 ━━━━━━━━━━━━━━━━━━━━ 32s 332ms/step - accuracy: 0.9366 - loss: 0.2115 - val_accuracy: 0.8006 - val_loss: 0.5800\n",
    "```"
   ]
  },
  {
   "cell_type": "code",
   "execution_count": null,
   "id": "649600b7-9ebc-46f2-a5e3-61080a5af7ec",
   "metadata": {},
   "outputs": [],
   "source": []
  },
  {
   "cell_type": "code",
   "execution_count": null,
   "id": "c89ca6ea-3802-4c36-b5b5-4bb8e91746cf",
   "metadata": {},
   "outputs": [],
   "source": []
  },
  {
   "cell_type": "markdown",
   "id": "153b121f-e5b3-41c5-b9c0-9fc8e2bc55ac",
   "metadata": {},
   "source": [
    "### Using the Model"
   ]
  },
  {
   "cell_type": "code",
   "execution_count": null,
   "id": "b3aa3bc8-832a-40bd-8a63-032a6ef6b603",
   "metadata": {},
   "outputs": [],
   "source": []
  },
  {
   "cell_type": "code",
   "execution_count": 87,
   "id": "e66b6db3-300d-45b7-9627-9dff8c012e1a",
   "metadata": {},
   "outputs": [
    {
     "name": "stdout",
     "output_type": "stream",
     "text": [
      "Found 372 files belonging to 10 classes.\n"
     ]
    }
   ],
   "source": [
    "test_ds = tf.keras.utils.image_dataset_from_directory(\n",
    "    './clothing-dataset-small/test',\n",
    "    labels='inferred',\n",
    "    label_mode='categorical',\n",
    "    batch_size=32,\n",
    "    image_size=(input_size, input_size),\n",
    "    shuffle=False\n",
    ")\n",
    "\n",
    "data_augmentation = keras.Sequential([\n",
    "    layers.RandomFlip(\"horizontal\"),\n",
    "    layers.RandomZoom(0.1),\n",
    "])\n",
    "\n",
    "def augment_and_preprocess(image, label):\n",
    "    image = data_augmentation(image)\n",
    "    image = preprocess_input(image)\n",
    "    return image, label\n",
    "\n",
    "test_ds = test_ds.map(augment_and_preprocess, num_parallel_calls=tf.data.AUTOTUNE)\n",
    "test_ds = test_ds.prefetch(buffer_size=tf.data.AUTOTUNE)"
   ]
  },
  {
   "cell_type": "code",
   "execution_count": null,
   "id": "827c816b-9681-4ba0-b228-97dce80b02d3",
   "metadata": {},
   "outputs": [],
   "source": []
  },
  {
   "cell_type": "code",
   "execution_count": 88,
   "id": "8a286b3a-49f7-4840-8e8a-7c28ffd172f5",
   "metadata": {},
   "outputs": [],
   "source": [
    "model = keras.models.load_model('xception_v5_14_0.897.keras')"
   ]
  },
  {
   "cell_type": "code",
   "execution_count": 89,
   "id": "0a82c4ff-ddd8-4541-bf19-02adfb97306f",
   "metadata": {},
   "outputs": [
    {
     "name": "stdout",
     "output_type": "stream",
     "text": [
      "\u001b[1m12/12\u001b[0m \u001b[32m━━━━━━━━━━━━━━━━━━━━\u001b[0m\u001b[37m\u001b[0m \u001b[1m14s\u001b[0m 1s/step - accuracy: 0.8946 - loss: 0.3231\n"
     ]
    },
    {
     "data": {
      "text/plain": [
       "[0.2729645073413849, 0.9059139490127563]"
      ]
     },
     "execution_count": 89,
     "metadata": {},
     "output_type": "execute_result"
    }
   ],
   "source": [
    "model.evaluate(test_ds)"
   ]
  },
  {
   "cell_type": "code",
   "execution_count": 90,
   "id": "2d45806b-b3a1-4ef3-84b1-a72ae480ba71",
   "metadata": {},
   "outputs": [],
   "source": [
    "\n",
    "path = 'clothing-dataset-small/test/longsleeve/0f4d9494-612a-48f8-be05-e47f4fc54d54.jpg'\n"
   ]
  },
  {
   "cell_type": "code",
   "execution_count": 91,
   "id": "6ac27ed0-8ba2-476b-b3a2-ba5f4523a725",
   "metadata": {},
   "outputs": [],
   "source": [
    "img = load_img(path, target_size=(299, 299))\n"
   ]
  },
  {
   "cell_type": "code",
   "execution_count": 92,
   "id": "b93b5db0-7c9f-4f79-aa90-b24969583a74",
   "metadata": {},
   "outputs": [
    {
     "data": {
      "text/plain": [
       "(1, 299, 299, 3)"
      ]
     },
     "execution_count": 92,
     "metadata": {},
     "output_type": "execute_result"
    }
   ],
   "source": [
    "import numpy as np\n",
    "\n",
    "x = np.array(img)\n",
    "X = np.array([x])\n",
    "X.shape"
   ]
  },
  {
   "cell_type": "code",
   "execution_count": 93,
   "id": "64805570-606b-4791-a7e7-03d88079e823",
   "metadata": {},
   "outputs": [],
   "source": [
    "X = preprocess_input(X)"
   ]
  },
  {
   "cell_type": "code",
   "execution_count": 94,
   "id": "aa348567-ec84-4574-a764-64f37b75e0ea",
   "metadata": {},
   "outputs": [
    {
     "name": "stdout",
     "output_type": "stream",
     "text": [
      "WARNING:tensorflow:6 out of the last 8 calls to <function TensorFlowTrainer.make_predict_function.<locals>.one_step_on_data_distributed at 0x31ead14e0> triggered tf.function retracing. Tracing is expensive and the excessive number of tracings could be due to (1) creating @tf.function repeatedly in a loop, (2) passing tensors with different shapes, (3) passing Python objects instead of tensors. For (1), please define your @tf.function outside of the loop. For (2), @tf.function has reduce_retracing=True option that can avoid unnecessary retracing. For (3), please refer to https://www.tensorflow.org/guide/function#controlling_retracing and https://www.tensorflow.org/api_docs/python/tf/function for  more details.\n"
     ]
    },
    {
     "name": "stderr",
     "output_type": "stream",
     "text": [
      "WARNING:tensorflow:6 out of the last 8 calls to <function TensorFlowTrainer.make_predict_function.<locals>.one_step_on_data_distributed at 0x31ead14e0> triggered tf.function retracing. Tracing is expensive and the excessive number of tracings could be due to (1) creating @tf.function repeatedly in a loop, (2) passing tensors with different shapes, (3) passing Python objects instead of tensors. For (1), please define your @tf.function outside of the loop. For (2), @tf.function has reduce_retracing=True option that can avoid unnecessary retracing. For (3), please refer to https://www.tensorflow.org/guide/function#controlling_retracing and https://www.tensorflow.org/api_docs/python/tf/function for  more details.\n"
     ]
    },
    {
     "name": "stdout",
     "output_type": "stream",
     "text": [
      "\u001b[1m1/1\u001b[0m \u001b[32m━━━━━━━━━━━━━━━━━━━━\u001b[0m\u001b[37m\u001b[0m \u001b[1m0s\u001b[0m 334ms/step\n"
     ]
    },
    {
     "data": {
      "text/plain": [
       "array([[ 1.3876281 , -4.026394  ,  4.76545   ,  2.6195517 , -2.0764413 ,\n",
       "         1.6954165 , -5.9548235 , -1.2751677 , -0.16200481,  0.3598975 ]],\n",
       "      dtype=float32)"
      ]
     },
     "execution_count": 94,
     "metadata": {},
     "output_type": "execute_result"
    }
   ],
   "source": [
    "pred = model.predict(X)\n",
    "pred"
   ]
  },
  {
   "cell_type": "code",
   "execution_count": 95,
   "id": "fd5de91e-c892-467a-bf71-be1d41485d15",
   "metadata": {},
   "outputs": [],
   "source": [
    "classes = [\n",
    "    'dress',\n",
    "    'hat',\n",
    "    'longsleeve',\n",
    "    'outwear',\n",
    "    'pants',\n",
    "    'shirt',\n",
    "    'shoes',\n",
    "    'shorts',\n",
    "    'skirt',\n",
    "    't-shirt'\n",
    "]\n"
   ]
  },
  {
   "cell_type": "code",
   "execution_count": 96,
   "id": "652eb174-b42f-464e-857e-b2d27d40942f",
   "metadata": {},
   "outputs": [
    {
     "data": {
      "text/plain": [
       "{'dress': 1.3876281,\n",
       " 'hat': -4.026394,\n",
       " 'longsleeve': 4.76545,\n",
       " 'outwear': 2.6195517,\n",
       " 'pants': -2.0764413,\n",
       " 'shirt': 1.6954165,\n",
       " 'shoes': -5.9548235,\n",
       " 'shorts': -1.2751677,\n",
       " 'skirt': -0.16200481,\n",
       " 't-shirt': 0.3598975}"
      ]
     },
     "execution_count": 96,
     "metadata": {},
     "output_type": "execute_result"
    }
   ],
   "source": [
    "res = dict(zip(classes, pred[0]))\n",
    "res"
   ]
  },
  {
   "cell_type": "code",
   "execution_count": 97,
   "id": "65ebb766-efad-437d-9f7b-bc5547a8e2a8",
   "metadata": {},
   "outputs": [
    {
     "data": {
      "text/plain": [
       "('longsleeve', 4.76545)"
      ]
     },
     "execution_count": 97,
     "metadata": {},
     "output_type": "execute_result"
    }
   ],
   "source": [
    "max(res.items(), key=lambda i: i[1])"
   ]
  },
  {
   "cell_type": "code",
   "execution_count": null,
   "id": "b967789e-c9b0-4f2c-9d14-97d68f9cc5fb",
   "metadata": {},
   "outputs": [],
   "source": []
  },
  {
   "cell_type": "markdown",
   "id": "bed31bb2-3811-45fe-9af0-7d33661a8777",
   "metadata": {},
   "source": [
    "## TF - Lite "
   ]
  },
  {
   "cell_type": "code",
   "execution_count": 98,
   "id": "4171048a-a678-4518-b5d2-bfe40113a299",
   "metadata": {},
   "outputs": [
    {
     "data": {
      "text/plain": [
       "'2.17.1'"
      ]
     },
     "execution_count": 98,
     "metadata": {},
     "output_type": "execute_result"
    }
   ],
   "source": [
    "tf.__version__"
   ]
  },
  {
   "cell_type": "code",
   "execution_count": 99,
   "id": "90950de5-ab0e-4a31-8291-8087d0aa6ab2",
   "metadata": {},
   "outputs": [],
   "source": [
    "model_path = 'xception_v5_14_0.897.keras'\n",
    "model = keras.models.load_model(model_path)"
   ]
  },
  {
   "cell_type": "code",
   "execution_count": 100,
   "id": "656b8c45-5b64-4cdd-a323-d299915f8088",
   "metadata": {},
   "outputs": [],
   "source": [
    "#!wget http://bit.ly/mlbookcamp-pants -O dress.jpg"
   ]
  },
  {
   "cell_type": "code",
   "execution_count": 115,
   "id": "89a07af5-63a7-4aec-ac0f-cbcb89a4aa86",
   "metadata": {},
   "outputs": [
    {
     "data": {
      "text/plain": [
       "(1, 299, 299, 3)"
      ]
     },
     "execution_count": 115,
     "metadata": {},
     "output_type": "execute_result"
    }
   ],
   "source": [
    "img = load_img('pants.jpg', target_size=(299, 299))\n",
    "x = np.array(img)\n",
    "X = np.array([x])\n",
    "X = preprocess_input(X)\n",
    "X.shape"
   ]
  },
  {
   "cell_type": "code",
   "execution_count": 116,
   "id": "26827c84-aab5-437a-a5ef-c6c7341de595",
   "metadata": {},
   "outputs": [
    {
     "name": "stdout",
     "output_type": "stream",
     "text": [
      "\u001b[1m1/1\u001b[0m \u001b[32m━━━━━━━━━━━━━━━━━━━━\u001b[0m\u001b[37m\u001b[0m \u001b[1m0s\u001b[0m 77ms/step\n"
     ]
    }
   ],
   "source": [
    "preds = model.predict(X)"
   ]
  },
  {
   "cell_type": "code",
   "execution_count": 117,
   "id": "02b36f70-ff61-4091-a73a-14983156e98d",
   "metadata": {},
   "outputs": [
    {
     "data": {
      "text/plain": [
       "{'dress': -2.8748555,\n",
       " 'hat': -2.6079617,\n",
       " 'longsleeve': -2.2718732,\n",
       " 'outwear': -1.0805153,\n",
       " 'pants': 8.99109,\n",
       " 'shirt': -0.52593803,\n",
       " 'shoes': -4.0571136,\n",
       " 'shorts': 4.15996,\n",
       " 'skirt': -1.6107886,\n",
       " 't-shirt': -2.6749864}"
      ]
     },
     "execution_count": 117,
     "metadata": {},
     "output_type": "execute_result"
    }
   ],
   "source": [
    "dict(zip(classes, preds[0]))"
   ]
  },
  {
   "cell_type": "code",
   "execution_count": null,
   "id": "991f1fa4-9fa0-4b79-8c6f-88f5e76f95fc",
   "metadata": {},
   "outputs": [],
   "source": []
  },
  {
   "cell_type": "code",
   "execution_count": 118,
   "id": "86fd9237-5392-44fb-a2f9-753d0d006afb",
   "metadata": {},
   "outputs": [],
   "source": [
    "import tensorflow.lite as tflite"
   ]
  },
  {
   "cell_type": "code",
   "execution_count": 119,
   "id": "20998e2c-aa37-4ca3-93a8-20a7817888e6",
   "metadata": {},
   "outputs": [
    {
     "name": "stdout",
     "output_type": "stream",
     "text": [
      "INFO:tensorflow:Assets written to: /var/folders/9j/dq11054j6sg0m5lt67ct6fr40000gq/T/tmpu9uaefeh/assets\n"
     ]
    },
    {
     "name": "stderr",
     "output_type": "stream",
     "text": [
      "INFO:tensorflow:Assets written to: /var/folders/9j/dq11054j6sg0m5lt67ct6fr40000gq/T/tmpu9uaefeh/assets\n"
     ]
    },
    {
     "name": "stdout",
     "output_type": "stream",
     "text": [
      "Saved artifact at '/var/folders/9j/dq11054j6sg0m5lt67ct6fr40000gq/T/tmpu9uaefeh'. The following endpoints are available:\n",
      "\n",
      "* Endpoint 'serve'\n",
      "  args_0 (POSITIONAL_ONLY): TensorSpec(shape=(None, 299, 299, 3), dtype=tf.float32, name='input_layer_9')\n",
      "Output Type:\n",
      "  TensorSpec(shape=(None, 10), dtype=tf.float32, name=None)\n",
      "Captures:\n",
      "  13544385296: TensorSpec(shape=(), dtype=tf.resource, name=None)\n",
      "  13544383376: TensorSpec(shape=(), dtype=tf.resource, name=None)\n",
      "  13544383568: TensorSpec(shape=(), dtype=tf.resource, name=None)\n",
      "  13544383760: TensorSpec(shape=(), dtype=tf.resource, name=None)\n",
      "  13544384336: TensorSpec(shape=(), dtype=tf.resource, name=None)\n",
      "  13544382032: TensorSpec(shape=(), dtype=tf.resource, name=None)\n",
      "  13544379728: TensorSpec(shape=(), dtype=tf.resource, name=None)\n",
      "  13544380688: TensorSpec(shape=(), dtype=tf.resource, name=None)\n",
      "  13544380304: TensorSpec(shape=(), dtype=tf.resource, name=None)\n",
      "  13544375888: TensorSpec(shape=(), dtype=tf.resource, name=None)\n",
      "  13544381456: TensorSpec(shape=(), dtype=tf.resource, name=None)\n",
      "  13544382800: TensorSpec(shape=(), dtype=tf.resource, name=None)\n",
      "  13544385872: TensorSpec(shape=(), dtype=tf.resource, name=None)\n",
      "  13544385488: TensorSpec(shape=(), dtype=tf.resource, name=None)\n",
      "  13544384144: TensorSpec(shape=(), dtype=tf.resource, name=None)\n",
      "  13544385680: TensorSpec(shape=(), dtype=tf.resource, name=None)\n",
      "  13544386256: TensorSpec(shape=(), dtype=tf.resource, name=None)\n",
      "  13544386640: TensorSpec(shape=(), dtype=tf.resource, name=None)\n",
      "  13544388560: TensorSpec(shape=(), dtype=tf.resource, name=None)\n",
      "  13544387984: TensorSpec(shape=(), dtype=tf.resource, name=None)\n",
      "  13544388176: TensorSpec(shape=(), dtype=tf.resource, name=None)\n",
      "  13544382416: TensorSpec(shape=(), dtype=tf.resource, name=None)\n",
      "  13544387600: TensorSpec(shape=(), dtype=tf.resource, name=None)\n",
      "  13544389904: TensorSpec(shape=(), dtype=tf.resource, name=None)\n",
      "  13544390096: TensorSpec(shape=(), dtype=tf.resource, name=None)\n",
      "  13544389712: TensorSpec(shape=(), dtype=tf.resource, name=None)\n",
      "  13544388944: TensorSpec(shape=(), dtype=tf.resource, name=None)\n",
      "  13544389328: TensorSpec(shape=(), dtype=tf.resource, name=None)\n",
      "  6224971152: TensorSpec(shape=(), dtype=tf.resource, name=None)\n",
      "  6224971344: TensorSpec(shape=(), dtype=tf.resource, name=None)\n",
      "  6224971536: TensorSpec(shape=(), dtype=tf.resource, name=None)\n",
      "  6224970384: TensorSpec(shape=(), dtype=tf.resource, name=None)\n",
      "  6224970960: TensorSpec(shape=(), dtype=tf.resource, name=None)\n",
      "  6224971920: TensorSpec(shape=(), dtype=tf.resource, name=None)\n",
      "  6224972304: TensorSpec(shape=(), dtype=tf.resource, name=None)\n",
      "  6224974224: TensorSpec(shape=(), dtype=tf.resource, name=None)\n",
      "  6224973648: TensorSpec(shape=(), dtype=tf.resource, name=None)\n",
      "  6224973840: TensorSpec(shape=(), dtype=tf.resource, name=None)\n",
      "  6224970768: TensorSpec(shape=(), dtype=tf.resource, name=None)\n",
      "  6224973264: TensorSpec(shape=(), dtype=tf.resource, name=None)\n",
      "  6224975568: TensorSpec(shape=(), dtype=tf.resource, name=None)\n",
      "  6224975760: TensorSpec(shape=(), dtype=tf.resource, name=None)\n",
      "  6224975376: TensorSpec(shape=(), dtype=tf.resource, name=None)\n",
      "  6224974608: TensorSpec(shape=(), dtype=tf.resource, name=None)\n",
      "  6224976144: TensorSpec(shape=(), dtype=tf.resource, name=None)\n",
      "  6224976528: TensorSpec(shape=(), dtype=tf.resource, name=None)\n",
      "  6224977872: TensorSpec(shape=(), dtype=tf.resource, name=None)\n",
      "  6224978064: TensorSpec(shape=(), dtype=tf.resource, name=None)\n",
      "  6224973072: TensorSpec(shape=(), dtype=tf.resource, name=None)\n",
      "  6224977488: TensorSpec(shape=(), dtype=tf.resource, name=None)\n",
      "  6224978448: TensorSpec(shape=(), dtype=tf.resource, name=None)\n",
      "  6224978832: TensorSpec(shape=(), dtype=tf.resource, name=None)\n",
      "  6224980752: TensorSpec(shape=(), dtype=tf.resource, name=None)\n",
      "  6224980176: TensorSpec(shape=(), dtype=tf.resource, name=None)\n",
      "  6224980368: TensorSpec(shape=(), dtype=tf.resource, name=None)\n",
      "  6224977296: TensorSpec(shape=(), dtype=tf.resource, name=None)\n",
      "  6224979792: TensorSpec(shape=(), dtype=tf.resource, name=None)\n",
      "  6224982096: TensorSpec(shape=(), dtype=tf.resource, name=None)\n",
      "  6224982288: TensorSpec(shape=(), dtype=tf.resource, name=None)\n",
      "  6224981904: TensorSpec(shape=(), dtype=tf.resource, name=None)\n",
      "  6224981136: TensorSpec(shape=(), dtype=tf.resource, name=None)\n",
      "  6224982672: TensorSpec(shape=(), dtype=tf.resource, name=None)\n",
      "  6224983056: TensorSpec(shape=(), dtype=tf.resource, name=None)\n",
      "  6224984400: TensorSpec(shape=(), dtype=tf.resource, name=None)\n",
      "  6224984592: TensorSpec(shape=(), dtype=tf.resource, name=None)\n",
      "  6224979600: TensorSpec(shape=(), dtype=tf.resource, name=None)\n",
      "  6224984016: TensorSpec(shape=(), dtype=tf.resource, name=None)\n",
      "  6224984976: TensorSpec(shape=(), dtype=tf.resource, name=None)\n",
      "  6224985744: TensorSpec(shape=(), dtype=tf.resource, name=None)\n",
      "  6225297680: TensorSpec(shape=(), dtype=tf.resource, name=None)\n",
      "  6225298256: TensorSpec(shape=(), dtype=tf.resource, name=None)\n",
      "  6224985936: TensorSpec(shape=(), dtype=tf.resource, name=None)\n",
      "  6224985360: TensorSpec(shape=(), dtype=tf.resource, name=None)\n",
      "  6175305616: TensorSpec(shape=(), dtype=tf.resource, name=None)\n",
      "  6175307152: TensorSpec(shape=(), dtype=tf.resource, name=None)\n",
      "  6175625808: TensorSpec(shape=(), dtype=tf.resource, name=None)\n",
      "  6297164432: TensorSpec(shape=(), dtype=tf.resource, name=None)\n",
      "  6175626000: TensorSpec(shape=(), dtype=tf.resource, name=None)\n",
      "  6297171920: TensorSpec(shape=(), dtype=tf.resource, name=None)\n",
      "  6305856400: TensorSpec(shape=(), dtype=tf.resource, name=None)\n",
      "  6297170576: TensorSpec(shape=(), dtype=tf.resource, name=None)\n",
      "  13764797712: TensorSpec(shape=(), dtype=tf.resource, name=None)\n",
      "  13764796944: TensorSpec(shape=(), dtype=tf.resource, name=None)\n",
      "  6175623120: TensorSpec(shape=(), dtype=tf.resource, name=None)\n",
      "  13764799824: TensorSpec(shape=(), dtype=tf.resource, name=None)\n",
      "  13764800400: TensorSpec(shape=(), dtype=tf.resource, name=None)\n",
      "  13764798864: TensorSpec(shape=(), dtype=tf.resource, name=None)\n",
      "  13764799056: TensorSpec(shape=(), dtype=tf.resource, name=None)\n",
      "  13765955408: TensorSpec(shape=(), dtype=tf.resource, name=None)\n",
      "  13764800592: TensorSpec(shape=(), dtype=tf.resource, name=None)\n",
      "  13764800208: TensorSpec(shape=(), dtype=tf.resource, name=None)\n",
      "  13765955024: TensorSpec(shape=(), dtype=tf.resource, name=None)\n",
      "  13765954640: TensorSpec(shape=(), dtype=tf.resource, name=None)\n",
      "  13765952144: TensorSpec(shape=(), dtype=tf.resource, name=None)\n",
      "  13765953296: TensorSpec(shape=(), dtype=tf.resource, name=None)\n",
      "  13765961552: TensorSpec(shape=(), dtype=tf.resource, name=None)\n",
      "  13765953872: TensorSpec(shape=(), dtype=tf.resource, name=None)\n",
      "  13765952720: TensorSpec(shape=(), dtype=tf.resource, name=None)\n",
      "  13279952976: TensorSpec(shape=(), dtype=tf.resource, name=None)\n",
      "  13279955472: TensorSpec(shape=(), dtype=tf.resource, name=None)\n",
      "  13264284432: TensorSpec(shape=(), dtype=tf.resource, name=None)\n",
      "  13279954896: TensorSpec(shape=(), dtype=tf.resource, name=None)\n",
      "  13279953936: TensorSpec(shape=(), dtype=tf.resource, name=None)\n",
      "  13264285776: TensorSpec(shape=(), dtype=tf.resource, name=None)\n",
      "  13264285584: TensorSpec(shape=(), dtype=tf.resource, name=None)\n",
      "  13264288848: TensorSpec(shape=(), dtype=tf.resource, name=None)\n",
      "  13264288080: TensorSpec(shape=(), dtype=tf.resource, name=None)\n",
      "  13264289616: TensorSpec(shape=(), dtype=tf.resource, name=None)\n",
      "  13264289040: TensorSpec(shape=(), dtype=tf.resource, name=None)\n",
      "  13264278096: TensorSpec(shape=(), dtype=tf.resource, name=None)\n",
      "  13264287888: TensorSpec(shape=(), dtype=tf.resource, name=None)\n",
      "  13264285392: TensorSpec(shape=(), dtype=tf.resource, name=None)\n",
      "  13264285200: TensorSpec(shape=(), dtype=tf.resource, name=None)\n",
      "  13264288464: TensorSpec(shape=(), dtype=tf.resource, name=None)\n",
      "  13264286352: TensorSpec(shape=(), dtype=tf.resource, name=None)\n",
      "  13264284816: TensorSpec(shape=(), dtype=tf.resource, name=None)\n",
      "  13264283472: TensorSpec(shape=(), dtype=tf.resource, name=None)\n",
      "  13264283088: TensorSpec(shape=(), dtype=tf.resource, name=None)\n",
      "  13264281552: TensorSpec(shape=(), dtype=tf.resource, name=None)\n",
      "  13264286160: TensorSpec(shape=(), dtype=tf.resource, name=None)\n",
      "  13264282704: TensorSpec(shape=(), dtype=tf.resource, name=None)\n",
      "  13264281744: TensorSpec(shape=(), dtype=tf.resource, name=None)\n",
      "  13264281936: TensorSpec(shape=(), dtype=tf.resource, name=None)\n",
      "  13264283280: TensorSpec(shape=(), dtype=tf.resource, name=None)\n",
      "  6225298064: TensorSpec(shape=(), dtype=tf.resource, name=None)\n",
      "  13264280208: TensorSpec(shape=(), dtype=tf.resource, name=None)\n",
      "  13264279248: TensorSpec(shape=(), dtype=tf.resource, name=None)\n",
      "  6225297488: TensorSpec(shape=(), dtype=tf.resource, name=None)\n",
      "  6225299024: TensorSpec(shape=(), dtype=tf.resource, name=None)\n",
      "  6225300752: TensorSpec(shape=(), dtype=tf.resource, name=None)\n",
      "  6225300944: TensorSpec(shape=(), dtype=tf.resource, name=None)\n",
      "  6225297872: TensorSpec(shape=(), dtype=tf.resource, name=None)\n",
      "  6225300368: TensorSpec(shape=(), dtype=tf.resource, name=None)\n",
      "  6225301328: TensorSpec(shape=(), dtype=tf.resource, name=None)\n",
      "  6225301712: TensorSpec(shape=(), dtype=tf.resource, name=None)\n",
      "  6225303056: TensorSpec(shape=(), dtype=tf.resource, name=None)\n",
      "  6225303248: TensorSpec(shape=(), dtype=tf.resource, name=None)\n",
      "  6225300176: TensorSpec(shape=(), dtype=tf.resource, name=None)\n",
      "  6225302672: TensorSpec(shape=(), dtype=tf.resource, name=None)\n",
      "  6225303632: TensorSpec(shape=(), dtype=tf.resource, name=None)\n",
      "  6225304016: TensorSpec(shape=(), dtype=tf.resource, name=None)\n",
      "  6225305360: TensorSpec(shape=(), dtype=tf.resource, name=None)\n",
      "  6225305552: TensorSpec(shape=(), dtype=tf.resource, name=None)\n",
      "  6225302480: TensorSpec(shape=(), dtype=tf.resource, name=None)\n",
      "  6225304976: TensorSpec(shape=(), dtype=tf.resource, name=None)\n",
      "  6225305936: TensorSpec(shape=(), dtype=tf.resource, name=None)\n",
      "  6225306320: TensorSpec(shape=(), dtype=tf.resource, name=None)\n",
      "  6225307664: TensorSpec(shape=(), dtype=tf.resource, name=None)\n",
      "  6225307856: TensorSpec(shape=(), dtype=tf.resource, name=None)\n",
      "  6225304784: TensorSpec(shape=(), dtype=tf.resource, name=None)\n",
      "  6225307280: TensorSpec(shape=(), dtype=tf.resource, name=None)\n",
      "  6225308240: TensorSpec(shape=(), dtype=tf.resource, name=None)\n",
      "  6225308624: TensorSpec(shape=(), dtype=tf.resource, name=None)\n",
      "  6225309968: TensorSpec(shape=(), dtype=tf.resource, name=None)\n",
      "  6225310160: TensorSpec(shape=(), dtype=tf.resource, name=None)\n",
      "  6225307088: TensorSpec(shape=(), dtype=tf.resource, name=None)\n",
      "  6225309584: TensorSpec(shape=(), dtype=tf.resource, name=None)\n",
      "  6225310544: TensorSpec(shape=(), dtype=tf.resource, name=None)\n",
      "  6225310928: TensorSpec(shape=(), dtype=tf.resource, name=None)\n",
      "  6225312272: TensorSpec(shape=(), dtype=tf.resource, name=None)\n",
      "  6225312464: TensorSpec(shape=(), dtype=tf.resource, name=None)\n",
      "  6225309392: TensorSpec(shape=(), dtype=tf.resource, name=None)\n",
      "  6225311888: TensorSpec(shape=(), dtype=tf.resource, name=None)\n",
      "  6225312848: TensorSpec(shape=(), dtype=tf.resource, name=None)\n",
      "  6225313616: TensorSpec(shape=(), dtype=tf.resource, name=None)\n",
      "  14355317200: TensorSpec(shape=(), dtype=tf.resource, name=None)\n",
      "  14355317392: TensorSpec(shape=(), dtype=tf.resource, name=None)\n",
      "  6225313232: TensorSpec(shape=(), dtype=tf.resource, name=None)\n",
      "  14355317776: TensorSpec(shape=(), dtype=tf.resource, name=None)\n",
      "  14355318160: TensorSpec(shape=(), dtype=tf.resource, name=None)\n",
      "  14355318544: TensorSpec(shape=(), dtype=tf.resource, name=None)\n",
      "  14355319888: TensorSpec(shape=(), dtype=tf.resource, name=None)\n",
      "  14355320080: TensorSpec(shape=(), dtype=tf.resource, name=None)\n",
      "  14355317008: TensorSpec(shape=(), dtype=tf.resource, name=None)\n",
      "  14355319504: TensorSpec(shape=(), dtype=tf.resource, name=None)\n",
      "  14355320464: TensorSpec(shape=(), dtype=tf.resource, name=None)\n",
      "  14355320848: TensorSpec(shape=(), dtype=tf.resource, name=None)\n",
      "  14355322192: TensorSpec(shape=(), dtype=tf.resource, name=None)\n",
      "  14355322384: TensorSpec(shape=(), dtype=tf.resource, name=None)\n",
      "  14355319312: TensorSpec(shape=(), dtype=tf.resource, name=None)\n",
      "  14355321808: TensorSpec(shape=(), dtype=tf.resource, name=None)\n",
      "  14355322768: TensorSpec(shape=(), dtype=tf.resource, name=None)\n",
      "  14355323152: TensorSpec(shape=(), dtype=tf.resource, name=None)\n",
      "  14355324496: TensorSpec(shape=(), dtype=tf.resource, name=None)\n",
      "  14355324688: TensorSpec(shape=(), dtype=tf.resource, name=None)\n",
      "  14355321616: TensorSpec(shape=(), dtype=tf.resource, name=None)\n",
      "  14355324112: TensorSpec(shape=(), dtype=tf.resource, name=None)\n",
      "  14355325072: TensorSpec(shape=(), dtype=tf.resource, name=None)\n",
      "  14355325456: TensorSpec(shape=(), dtype=tf.resource, name=None)\n",
      "  14355326800: TensorSpec(shape=(), dtype=tf.resource, name=None)\n",
      "  14355326992: TensorSpec(shape=(), dtype=tf.resource, name=None)\n",
      "  14355323920: TensorSpec(shape=(), dtype=tf.resource, name=None)\n",
      "  14355326416: TensorSpec(shape=(), dtype=tf.resource, name=None)\n",
      "  14355327376: TensorSpec(shape=(), dtype=tf.resource, name=None)\n",
      "  14355327760: TensorSpec(shape=(), dtype=tf.resource, name=None)\n",
      "  14355329104: TensorSpec(shape=(), dtype=tf.resource, name=None)\n",
      "  14355329296: TensorSpec(shape=(), dtype=tf.resource, name=None)\n",
      "  14355326224: TensorSpec(shape=(), dtype=tf.resource, name=None)\n",
      "  14355328720: TensorSpec(shape=(), dtype=tf.resource, name=None)\n",
      "  14355329680: TensorSpec(shape=(), dtype=tf.resource, name=None)\n",
      "  14355330064: TensorSpec(shape=(), dtype=tf.resource, name=None)\n",
      "  14355331408: TensorSpec(shape=(), dtype=tf.resource, name=None)\n",
      "  14355331600: TensorSpec(shape=(), dtype=tf.resource, name=None)\n",
      "  14355328528: TensorSpec(shape=(), dtype=tf.resource, name=None)\n",
      "  14355331024: TensorSpec(shape=(), dtype=tf.resource, name=None)\n",
      "  14355331984: TensorSpec(shape=(), dtype=tf.resource, name=None)\n",
      "  14355332752: TensorSpec(shape=(), dtype=tf.resource, name=None)\n",
      "  13376750224: TensorSpec(shape=(), dtype=tf.resource, name=None)\n",
      "  13376749648: TensorSpec(shape=(), dtype=tf.resource, name=None)\n",
      "  14355332944: TensorSpec(shape=(), dtype=tf.resource, name=None)\n",
      "  14355332368: TensorSpec(shape=(), dtype=tf.resource, name=None)\n",
      "  13376750800: TensorSpec(shape=(), dtype=tf.resource, name=None)\n",
      "  13376751184: TensorSpec(shape=(), dtype=tf.resource, name=None)\n",
      "  13376751952: TensorSpec(shape=(), dtype=tf.resource, name=None)\n",
      "  13376752528: TensorSpec(shape=(), dtype=tf.resource, name=None)\n",
      "  13376752720: TensorSpec(shape=(), dtype=tf.resource, name=None)\n",
      "  13376750416: TensorSpec(shape=(), dtype=tf.resource, name=None)\n",
      "  13376752144: TensorSpec(shape=(), dtype=tf.resource, name=None)\n",
      "  13376755216: TensorSpec(shape=(), dtype=tf.resource, name=None)\n",
      "  13376755408: TensorSpec(shape=(), dtype=tf.resource, name=None)\n",
      "  13376755024: TensorSpec(shape=(), dtype=tf.resource, name=None)\n",
      "  13376754448: TensorSpec(shape=(), dtype=tf.resource, name=None)\n",
      "  13376755792: TensorSpec(shape=(), dtype=tf.resource, name=None)\n",
      "  13376756176: TensorSpec(shape=(), dtype=tf.resource, name=None)\n",
      "  13376757520: TensorSpec(shape=(), dtype=tf.resource, name=None)\n",
      "  13376757712: TensorSpec(shape=(), dtype=tf.resource, name=None)\n",
      "  13376754640: TensorSpec(shape=(), dtype=tf.resource, name=None)\n",
      "  13376757136: TensorSpec(shape=(), dtype=tf.resource, name=None)\n",
      "  13376758096: TensorSpec(shape=(), dtype=tf.resource, name=None)\n",
      "  13376758480: TensorSpec(shape=(), dtype=tf.resource, name=None)\n",
      "  13376759824: TensorSpec(shape=(), dtype=tf.resource, name=None)\n",
      "  13376760016: TensorSpec(shape=(), dtype=tf.resource, name=None)\n",
      "  13376756944: TensorSpec(shape=(), dtype=tf.resource, name=None)\n",
      "  13376759440: TensorSpec(shape=(), dtype=tf.resource, name=None)\n",
      "  13376760400: TensorSpec(shape=(), dtype=tf.resource, name=None)\n",
      "  13376761360: TensorSpec(shape=(), dtype=tf.resource, name=None)\n",
      "  13376762128: TensorSpec(shape=(), dtype=tf.resource, name=None)\n",
      "  13376762896: TensorSpec(shape=(), dtype=tf.resource, name=None)\n"
     ]
    },
    {
     "name": "stderr",
     "output_type": "stream",
     "text": [
      "W0000 00:00:1733736396.820627 1635341 tf_tfl_flatbuffer_helpers.cc:392] Ignored output_format.\n",
      "W0000 00:00:1733736396.820636 1635341 tf_tfl_flatbuffer_helpers.cc:395] Ignored drop_control_dependency.\n",
      "2024-12-09 19:26:36.820752: I tensorflow/cc/saved_model/reader.cc:83] Reading SavedModel from: /var/folders/9j/dq11054j6sg0m5lt67ct6fr40000gq/T/tmpu9uaefeh\n",
      "2024-12-09 19:26:36.825167: I tensorflow/cc/saved_model/reader.cc:52] Reading meta graph with tags { serve }\n",
      "2024-12-09 19:26:36.825179: I tensorflow/cc/saved_model/reader.cc:147] Reading SavedModel debug info (if present) from: /var/folders/9j/dq11054j6sg0m5lt67ct6fr40000gq/T/tmpu9uaefeh\n",
      "2024-12-09 19:26:36.870538: I tensorflow/cc/saved_model/loader.cc:236] Restoring SavedModel bundle.\n",
      "2024-12-09 19:26:37.163160: I tensorflow/cc/saved_model/loader.cc:220] Running initialization op on SavedModel bundle at path: /var/folders/9j/dq11054j6sg0m5lt67ct6fr40000gq/T/tmpu9uaefeh\n",
      "2024-12-09 19:26:37.231908: I tensorflow/cc/saved_model/loader.cc:462] SavedModel load for tags { serve }; Status: success: OK. Took 411156 microseconds.\n"
     ]
    }
   ],
   "source": [
    "converter = tflite.TFLiteConverter.from_keras_model(model)\n",
    "tflite_model = converter.convert()\n",
    "\n",
    "with open('xception_v5_14_0.897.keras.tflite', 'wb') as f_out:\n",
    "    f_out.write(tflite_model)"
   ]
  },
  {
   "cell_type": "code",
   "execution_count": null,
   "id": "893792a4-792c-4d1f-acb6-2e50646003a3",
   "metadata": {},
   "outputs": [],
   "source": []
  },
  {
   "cell_type": "code",
   "execution_count": null,
   "id": "ee20b755-1c88-4709-8f4b-ee32c631b4e3",
   "metadata": {},
   "outputs": [],
   "source": []
  },
  {
   "cell_type": "code",
   "execution_count": 120,
   "id": "eac3d641-a57b-472c-97fd-36ee260674cb",
   "metadata": {},
   "outputs": [],
   "source": [
    "interpreter = tflite.Interpreter(model_path='xception_v5_14_0.897.keras.tflite')\n",
    "interpreter.allocate_tensors()\n",
    "\n",
    "input_index = interpreter.get_input_details()[0]['index']\n",
    "output_index = interpreter.get_output_details()[0]['index']\n",
    "\n",
    "interpreter.set_tensor(input_index, X)\n",
    "interpreter.invoke()\n",
    "\n",
    "preds = interpreter.get_tensor(output_index)"
   ]
  },
  {
   "cell_type": "code",
   "execution_count": 121,
   "id": "34088004-9132-40a6-a170-43271cefab3c",
   "metadata": {},
   "outputs": [
    {
     "data": {
      "text/plain": [
       "array([[-2.8748581, -2.6079607, -2.271874 , -1.0805144,  8.991091 ,\n",
       "        -0.5259384, -4.0571146,  4.1599646, -1.6107898, -2.674987 ]],\n",
       "      dtype=float32)"
      ]
     },
     "execution_count": 121,
     "metadata": {},
     "output_type": "execute_result"
    }
   ],
   "source": [
    "preds"
   ]
  },
  {
   "cell_type": "code",
   "execution_count": 122,
   "id": "88616572-94e8-4a8d-849c-f9508ec0981c",
   "metadata": {},
   "outputs": [
    {
     "data": {
      "text/plain": [
       "{'dress': -2.8748581,\n",
       " 'hat': -2.6079607,\n",
       " 'longsleeve': -2.271874,\n",
       " 'outwear': -1.0805144,\n",
       " 'pants': 8.991091,\n",
       " 'shirt': -0.5259384,\n",
       " 'shoes': -4.0571146,\n",
       " 'shorts': 4.1599646,\n",
       " 'skirt': -1.6107898,\n",
       " 't-shirt': -2.674987}"
      ]
     },
     "execution_count": 122,
     "metadata": {},
     "output_type": "execute_result"
    }
   ],
   "source": [
    "res = dict(zip(classes, preds[0]))\n",
    "res"
   ]
  },
  {
   "cell_type": "code",
   "execution_count": 123,
   "id": "3c39bfc4-36b3-4bf8-b78c-b0c9a8f0d4e9",
   "metadata": {},
   "outputs": [
    {
     "data": {
      "text/plain": [
       "('pants', 8.991091)"
      ]
     },
     "execution_count": 123,
     "metadata": {},
     "output_type": "execute_result"
    }
   ],
   "source": [
    "max(res.items(), key=lambda x: x[1])"
   ]
  },
  {
   "cell_type": "code",
   "execution_count": null,
   "id": "c945ac87-b104-4cfa-b3c8-f3856dca507e",
   "metadata": {},
   "outputs": [],
   "source": []
  },
  {
   "cell_type": "code",
   "execution_count": 4,
   "id": "19aa20dd-1ec4-43fe-ad85-1ef2859f0d57",
   "metadata": {},
   "outputs": [
    {
     "name": "stdout",
     "output_type": "stream",
     "text": [
      "Requirement already satisfied: keras-image-helper in /opt/homebrew/Caskroom/mambaforge/base/envs/dlzc/lib/python3.11/site-packages (0.0.1)\n",
      "Requirement already satisfied: numpy in /opt/homebrew/Caskroom/mambaforge/base/envs/dlzc/lib/python3.11/site-packages (from keras-image-helper) (1.26.4)\n",
      "Requirement already satisfied: pillow in /opt/homebrew/Caskroom/mambaforge/base/envs/dlzc/lib/python3.11/site-packages (from keras-image-helper) (11.0.0)\n",
      "\u001b[31mERROR: Could not find a version that satisfies the requirement tflite-runtime (from versions: none)\u001b[0m\u001b[31m\n",
      "\u001b[0m\u001b[31mERROR: No matching distribution found for tflite-runtime\u001b[0m\u001b[31m\n",
      "\u001b[0m"
     ]
    }
   ],
   "source": [
    "!pip install keras-image-helper\n",
    "!pip install tflite-runtime"
   ]
  },
  {
   "cell_type": "code",
   "execution_count": 125,
   "id": "174587d6-e67d-4f82-a5f7-e3f4253fe8ec",
   "metadata": {},
   "outputs": [],
   "source": [
    "# Simplifying.. "
   ]
  },
  {
   "cell_type": "code",
   "execution_count": 126,
   "id": "0b4eb918-dec2-452a-a179-a67109013ccc",
   "metadata": {},
   "outputs": [],
   "source": [
    "import tensorflow.lite as tflite\n",
    "\n",
    "from keras_image_helper import create_preprocessor\n",
    "preprocessor = create_preprocessor('xception', target_size=(299, 299))\n",
    "\n",
    "url = 'http://bit.ly/mlbookcamp-pants'\n",
    "X = preprocessor.from_url(url) "
   ]
  },
  {
   "cell_type": "code",
   "execution_count": 127,
   "id": "ebf62b3a-507a-4a9d-b6cb-92da2a0c2417",
   "metadata": {},
   "outputs": [
    {
     "name": "stdout",
     "output_type": "stream",
     "text": [
      "\u001b[1m1/1\u001b[0m \u001b[32m━━━━━━━━━━━━━━━━━━━━\u001b[0m\u001b[37m\u001b[0m \u001b[1m0s\u001b[0m 83ms/step\n"
     ]
    }
   ],
   "source": [
    "preds = model.predict(X)"
   ]
  },
  {
   "cell_type": "code",
   "execution_count": 128,
   "id": "06a14c03-699a-4095-af79-7cf0b7cb8514",
   "metadata": {},
   "outputs": [
    {
     "data": {
      "text/plain": [
       "{'dress': -2.8748555,\n",
       " 'hat': -2.6079617,\n",
       " 'longsleeve': -2.2718732,\n",
       " 'outwear': -1.0805153,\n",
       " 'pants': 8.99109,\n",
       " 'shirt': -0.52593803,\n",
       " 'shoes': -4.0571136,\n",
       " 'shorts': 4.15996,\n",
       " 'skirt': -1.6107886,\n",
       " 't-shirt': -2.6749864}"
      ]
     },
     "execution_count": 128,
     "metadata": {},
     "output_type": "execute_result"
    }
   ],
   "source": [
    "res = dict(zip(classes, preds[0]))\n",
    "res\n"
   ]
  },
  {
   "cell_type": "code",
   "execution_count": 129,
   "id": "5372629c-c843-4a69-a24f-764426192eb8",
   "metadata": {},
   "outputs": [
    {
     "data": {
      "text/plain": [
       "('pants', 8.99109)"
      ]
     },
     "execution_count": 129,
     "metadata": {},
     "output_type": "execute_result"
    }
   ],
   "source": [
    "max(res.items(), key=lambda x: x[1])"
   ]
  },
  {
   "cell_type": "code",
   "execution_count": null,
   "id": "09e852a3-4827-4934-9bc5-9aa599938233",
   "metadata": {},
   "outputs": [],
   "source": []
  },
  {
   "cell_type": "code",
   "execution_count": 12,
   "id": "cf030c5f-8e44-445d-bc7f-c28bec413e62",
   "metadata": {},
   "outputs": [
    {
     "name": "stdout",
     "output_type": "stream",
     "text": [
      "Looking in indexes: https://pypi.org/simple, https://google-coral.github.io/py-repo/\n",
      "\u001b[31mERROR: Could not find a version that satisfies the requirement tflite_runtime (from versions: none)\u001b[0m\u001b[31m\n",
      "\u001b[0m\u001b[31mERROR: No matching distribution found for tflite_runtime\u001b[0m\u001b[31m\n",
      "\u001b[0m"
     ]
    }
   ],
   "source": [
    "# Remove dependency\n",
    "!pip install --extra-index-url https://google-coral.github.io/py-repo/ tflite_runtime"
   ]
  },
  {
   "cell_type": "code",
   "execution_count": 130,
   "id": "1de33961-bf50-44cc-aa5c-fc2c5f1f4ee3",
   "metadata": {},
   "outputs": [],
   "source": [
    "# Use nbconvert and rename to lambda_function.py"
   ]
  },
  {
   "cell_type": "markdown",
   "id": "50ea9051-92be-4e49-bdf1-29964e52e736",
   "metadata": {},
   "source": [
    "### Test "
   ]
  },
  {
   "cell_type": "code",
   "execution_count": 13,
   "id": "d7d25178-6690-4b32-a013-ff9aaffab3e1",
   "metadata": {},
   "outputs": [],
   "source": [
    "import lambda_function\n",
    "url = 'http://bit.ly/mlbookcamp-pants'\n"
   ]
  },
  {
   "cell_type": "code",
   "execution_count": 14,
   "id": "c3657559-ff10-4573-8fe0-dd4995c0548c",
   "metadata": {},
   "outputs": [
    {
     "data": {
      "text/plain": [
       "{'dress': -2.8748581,\n",
       " 'hat': -2.6079607,\n",
       " 'longsleeve': -2.271874,\n",
       " 'outwear': -1.0805144,\n",
       " 'pants': 8.991091,\n",
       " 'shirt': -0.5259384,\n",
       " 'shoes': -4.0571146,\n",
       " 'shorts': 4.1599646,\n",
       " 'skirt': -1.6107898,\n",
       " 't-shirt': -2.674987}"
      ]
     },
     "execution_count": 14,
     "metadata": {},
     "output_type": "execute_result"
    }
   ],
   "source": [
    "lambda_function.predict(url)"
   ]
  },
  {
   "cell_type": "code",
   "execution_count": 15,
   "id": "feb479c7-c47e-4bac-9f99-f4d546deadad",
   "metadata": {},
   "outputs": [
    {
     "data": {
      "text/plain": [
       "{'dress': -2.8748581,\n",
       " 'hat': -2.6079607,\n",
       " 'longsleeve': -2.271874,\n",
       " 'outwear': -1.0805144,\n",
       " 'pants': 8.991091,\n",
       " 'shirt': -0.5259384,\n",
       " 'shoes': -4.0571146,\n",
       " 'shorts': 4.1599646,\n",
       " 'skirt': -1.6107898,\n",
       " 't-shirt': -2.674987}"
      ]
     },
     "execution_count": 15,
     "metadata": {},
     "output_type": "execute_result"
    }
   ],
   "source": [
    "event = {'url': url}\n",
    "lambda_function.lambda_handler(event)"
   ]
  },
  {
   "cell_type": "code",
   "execution_count": 10,
   "id": "725db1d8-ade0-4f79-b205-36c8201943c8",
   "metadata": {},
   "outputs": [
    {
     "ename": "ModuleNotFoundError",
     "evalue": "No module named 'tflite_runtime'",
     "output_type": "error",
     "traceback": [
      "\u001b[0;31m---------------------------------------------------------------------------\u001b[0m",
      "\u001b[0;31mModuleNotFoundError\u001b[0m                       Traceback (most recent call last)",
      "Cell \u001b[0;32mIn[10], line 1\u001b[0m\n\u001b[0;32m----> 1\u001b[0m \u001b[38;5;28;01mimport\u001b[39;00m \u001b[38;5;21;01mtflite_runtime\u001b[39;00m\u001b[38;5;21;01m.\u001b[39;00m\u001b[38;5;21;01minterpreter\u001b[39;00m \u001b[38;5;28;01mas\u001b[39;00m \u001b[38;5;21;01mtflite\u001b[39;00m\n\u001b[1;32m      2\u001b[0m \u001b[38;5;28;01mfrom\u001b[39;00m \u001b[38;5;21;01mkeras_image_helper\u001b[39;00m \u001b[38;5;28;01mimport\u001b[39;00m create_preprocessor\n",
      "\u001b[0;31mModuleNotFoundError\u001b[0m: No module named 'tflite_runtime'"
     ]
    }
   ],
   "source": [
    "import tflite_runtime.interpreter as tflite\n",
    "from keras_image_helper import create_preprocessor"
   ]
  },
  {
   "cell_type": "code",
   "execution_count": 16,
   "id": "41c29041-d42e-4140-8294-74d4586043db",
   "metadata": {},
   "outputs": [
    {
     "name": "stdout",
     "output_type": "stream",
     "text": [
      "{'dress': -2.874859094619751, 'hat': -2.607961416244507, 'longsleeve': -2.2718729972839355, 'outwear': -1.080513596534729, 'pants': 8.991092681884766, 'shirt': -0.5259398818016052, 'shoes': -4.0571136474609375, 'shorts': 4.159965991973877, 'skirt': -1.6107923984527588, 't-shirt': -2.674988269805908}\n"
     ]
    }
   ],
   "source": [
    "!python test.py"
   ]
  },
  {
   "cell_type": "code",
   "execution_count": null,
   "id": "cfe20e63-1b86-4328-aead-d35975b54c6b",
   "metadata": {},
   "outputs": [],
   "source": []
  }
 ],
 "metadata": {
  "kernelspec": {
   "display_name": "Python 3 (ipykernel)",
   "language": "python",
   "name": "python3"
  },
  "language_info": {
   "codemirror_mode": {
    "name": "ipython",
    "version": 3
   },
   "file_extension": ".py",
   "mimetype": "text/x-python",
   "name": "python",
   "nbconvert_exporter": "python",
   "pygments_lexer": "ipython3",
   "version": "3.11.10"
  }
 },
 "nbformat": 4,
 "nbformat_minor": 5
}
